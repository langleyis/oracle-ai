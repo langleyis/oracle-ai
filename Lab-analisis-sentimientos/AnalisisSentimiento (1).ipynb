{
 "cells": [
  {
   "cell_type": "markdown",
   "id": "cbba3863-8378-4f53-b44b-3adcda113143",
   "metadata": {},
   "source": [
    "**Antes de ejecutar el codigo se debe de instalar la librería openpyxl en la terminal**"
   ]
  },
  {
   "cell_type": "code",
   "execution_count": 6,
   "id": "5158a9e7-e69f-4cab-80c1-16df2c070284",
   "metadata": {
    "tags": []
   },
   "outputs": [],
   "source": [
    "#Librerias\n",
    "import oci\n",
    "import ads\n",
    "import logging\n",
    "import numpy as np\n",
    "import os\n",
    "import pandas as pd\n",
    "import shutil\n",
    "import tempfile\n",
    "import warnings\n",
    "from ads.dataset.factory import DatasetFactory\n",
    "from os import path\n",
    "warnings.filterwarnings(\"ignore\")\n",
    "logging.basicConfig(format=\"%(levelname)s:%(message)s\", level=logging.INFO)"
   ]
  },
  {
   "cell_type": "code",
   "execution_count": 7,
   "id": "66153cb5-e94b-458e-9568-96cde400b416",
   "metadata": {
    "tags": []
   },
   "outputs": [],
   "source": [
    "#Autenticacion\n",
    "signer = oci.auth.signers.get_resource_principals_signer()\n",
    "config = {'region': signer.region, 'tenancy': signer.tenancy_id}\n",
    "ai_language_client = oci.ai_language.AIServiceLanguageClient(config=config , signer=signer)"
   ]
  },
  {
   "cell_type": "code",
   "execution_count": 8,
   "id": "70f5d5b6-478c-4255-8aca-c9f7a7e58f09",
   "metadata": {
    "tags": []
   },
   "outputs": [],
   "source": [
    "#Leer el excel que contiene los tweets\n",
    "df=pd.read_excel(\"tweets_premier_league_footballersv3_esp.xlsx\")\n",
    "\n",
    "#Seleccionamos la columna de interes donde se encuentran los tweets\n",
    "df_sentiment = df['tweet']"
   ]
  },
  {
   "cell_type": "code",
   "execution_count": 9,
   "id": "7dc75a05-b2e8-4069-9259-e8bccb1aa454",
   "metadata": {
    "tags": []
   },
   "outputs": [],
   "source": [
    "sentimientos_resultados = []\n",
    "#Ciclo donde se extrae los sentimiendos de la columna de interes y se aplica el servicio de IA Language\n",
    "for sentimiento in df_sentiment[0:518]:\n",
    "    if isinstance(sentimiento, str):\n",
    "        batch_detect_language_sentiments_response = ai_language_client.batch_detect_language_sentiments(\n",
    "            batch_detect_language_sentiments_details=oci.ai_language.models.BatchDetectLanguageSentimentsDetails(\n",
    "                documents=[\n",
    "                    oci.ai_language.models.TextDocument(\n",
    "                        key=\"0\",\n",
    "                        text=sentimiento,\n",
    "                        language_code=\"es\")],\n",
    "                compartment_id=os.environ[\"NB_SESSION_COMPARTMENT_OCID\"]),\n",
    "            level=[\"SENTENCE\"])\n",
    "\n",
    "        if batch_detect_language_sentiments_response.data.documents and \\\n",
    "           batch_detect_language_sentiments_response.data.documents[0].sentences:\n",
    "\n",
    "            # Obtener el sentimiento del tweet\n",
    "            sentimiento_resultado = batch_detect_language_sentiments_response.data.documents[0].sentences[0].sentiment\n",
    "        else:\n",
    "            sentimiento_resultado = \"El sentimiento no se pudo analizar.\"\n",
    "    else:\n",
    "        sentimiento_resultado = \"Tweet vacio.\"\n",
    "\n",
    "    sentimientos_resultados.append(sentimiento_resultado)\n",
    "    \n",
    "#Se agrega una columna con el resultado de los sentimientos\n",
    "df['Sentimiento_OCI_Language'] = sentimientos_resultados\n",
    "\n",
    "df.to_excel(\"resultado_analisis_sentimiento.xlsx\", index=False)"
   ]
  }
 ],
 "metadata": {
  "kernelspec": {
   "display_name": "Python 3 (ipykernel)",
   "language": "python",
   "name": "python3"
  },
  "language_info": {
   "codemirror_mode": {
    "name": "ipython",
    "version": 3
   },
   "file_extension": ".py",
   "mimetype": "text/x-python",
   "name": "python",
   "nbconvert_exporter": "python",
   "pygments_lexer": "ipython3",
   "version": "3.8.19"
  }
 },
 "nbformat": 4,
 "nbformat_minor": 5
}
