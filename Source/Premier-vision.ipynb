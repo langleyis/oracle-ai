{
 "cells": [
  {
   "cell_type": "code",
   "execution_count": null,
   "metadata": {},
   "outputs": [],
   "source": [
    "import base64\n",
    "import json\n",
    "import io\n",
    "import os\n",
    "import requests\n",
    "from PIL import Image\n",
    "import matplotlib.pyplot as plt\n",
    "with open('example-football-pitch-image.jpg', \"rb\") as image_file:\n",
    "   encoded_string = base64.b64encode(image_file.read())\n",
    "image_data = base64.b64decode(encoded_string)\n",
    "image = Image.open(io.BytesIO(image_data))\n",
    "plt.gcf().set_dpi(200)\n",
    "plt.axis('off')\n",
    "plt.imshow(image)\n",
    "plt.show()"
   ]
  },
  {
   "cell_type": "code",
   "execution_count": null,
   "metadata": {},
   "outputs": [],
   "source": [
    "import oci\n",
    "config = oci.config.from_file('~/.oci/config')\n",
    "ai_service_vision_client = oci.ai_vision.AIServiceVisionClient(config=config)\n",
    "analyze_image_details = oci.ai_vision.models.AnalyzeImageDetails()\n",
    "inline_image_details = oci.ai_vision.models.InlineImageDetails()\n",
    "image_object_detection_feature = oci.ai_vision.models.ImageObjectDetectionFeature()\n",
    "image_object_detection_feature.max_results = 255\n",
    "image_text_detection_feature = oci.ai_vision.models.ImageTextDetectionFeature()\n",
    "features = [image_object_detection_feature, image_text_detection_feature]\n",
    "inline_image_details.data = encoded_string.decode('utf-8')\n",
    "analyze_image_details.image = inline_image_details\n",
    "analyze_image_details.features = features\n",
    "res = ai_service_vision_client.analyze_image(analyze_image_details=analyze_image_details)\n",
    "res_json = json.loads(repr(res.data))\n",
    "f = open('vision_response.json', 'w')\n",
    "json.dump(res_json, f)\n",
    "f.close()"
   ]
  },
  {
   "cell_type": "code",
   "execution_count": null,
   "metadata": {},
   "outputs": [],
   "source": [
    "import cv2\n",
    "def draw_bounding_boxes(objects, img):\n",
    "    width = img.shape[1]\n",
    "    height = img.shape[0]\n",
    "    # Loop through all of the players found\n",
    "    for obj in objects:\n",
    "        point1 = (int(obj[\"bounding_polygon\"][\"normalized_vertices\"][0][\"x\"] * width), int(obj[\"bounding_polygon\"][\"normalized_vertices\"][0][\"y\"] * height))\n",
    "        point2 = (int(obj[\"bounding_polygon\"][\"normalized_vertices\"][1][\"x\"] * width), int(obj[\"bounding_polygon\"][\"normalized_vertices\"][1][\"y\"] * height))\n",
    "        point3 = (int(obj[\"bounding_polygon\"][\"normalized_vertices\"][2][\"x\"] * width), int(obj[\"bounding_polygon\"][\"normalized_vertices\"][2][\"y\"] * height))\n",
    "        point4 = (int(obj[\"bounding_polygon\"][\"normalized_vertices\"][3][\"x\"] * width), int(obj[\"bounding_polygon\"][\"normalized_vertices\"][3][\"y\"] * height))\n",
    "        color = (255, 255, 255)\n",
    "        cv2.line(img, point1, point2, color, 2)\n",
    "        cv2.line(img, point2, point3, color, 2)\n",
    "        cv2.line(img, point3, point4, color, 2)\n",
    "        cv2.line(img, point4, point1, color, 2)\n",
    "img = cv2.imread('example-football-pitch-image.jpg')\n",
    "draw_bounding_boxes(res_json[\"image_objects\"], img)\n",
    "draw_bounding_boxes(res_json[\"image_text\"][\"lines\"], img)\n",
    "plt.imshow(img)\n",
    "plt.show()"
   ]
  },
  {
   "cell_type": "code",
   "execution_count": null,
   "metadata": {},
   "outputs": [],
   "source": [
    "def is_point_within_rectangle(object_rectangle, text_rectangle):\n",
    "    minX = 1\n",
    "    maxX = 0\n",
    "    minY = 1\n",
    "    maxY = 0\n",
    "    for coordinate in object_rectangle:\n",
    "        if coordinate[\"x\"] < minX:\n",
    "            minX = coordinate[\"x\"]\n",
    "        if coordinate[\"y\"] < minY:\n",
    "            minY = coordinate[\"y\"]\n",
    "        if coordinate[\"x\"] > maxX:\n",
    "            maxX = coordinate[\"x\"]\n",
    "        if coordinate[\"y\"] > maxY:\n",
    "            maxY = coordinate[\"y\"]\n",
    "    result = text_rectangle[0][\"x\"] > minX and text_rectangle[0][\"y\"] > minY and text_rectangle[0][\"x\"] < maxX and text_rectangle[0][\"y\"] < maxY and text_rectangle[1][\"x\"] > minX and text_rectangle[1][\"y\"] > minY and text_rectangle[1][\"x\"] < maxX and text_rectangle[1][\"y\"] < maxY and text_rectangle[2][\"x\"] > minX and text_rectangle[2][\"y\"] > minY and text_rectangle[1][\"x\"] < maxX and text_rectangle[2][\"y\"] < maxY and text_rectangle[3][\"x\"] > minX and text_rectangle[3][\"y\"] > minY and text_rectangle[1][\"x\"] < maxX and text_rectangle[3][\"y\"] < maxY\n",
    "    return result\n",
    "def add_shirt_number_to_players(vision_response):\n",
    "    # Loop through all of the players found\n",
    "    for image_object in vision_response[\"image_objects\"]:\n",
    "        # Loop through all of the texts found\n",
    "        # Check if it is within the bounds of this player\n",
    "        # If it is, then set it as the shirt number\n",
    "        for line in vision_response[\"image_text\"][\"lines\"]:\n",
    "            result = is_point_within_rectangle(image_object[\"bounding_polygon\"][\"normalized_vertices\"], line[\"bounding_polygon\"][\"normalized_vertices\"])\n",
    "            if (result is True):\n",
    "                image_object[\"shirt_number\"] = line[\"text\"]\n",
    "                print(image_object)\n",
    "add_shirt_number_to_players(res_json)\n",
    "f = open('vision_response_enriched_with_shirt_numbers.json', 'w')\n",
    "json.dump(res_json, f)\n",
    "f.close()"
   ]
  }
 ],
 "metadata": {
  "language_info": {
   "name": "python"
  }
 },
 "nbformat": 4,
 "nbformat_minor": 2
}
